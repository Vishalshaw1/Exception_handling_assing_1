{
 "cells": [
  {
   "cell_type": "markdown",
   "metadata": {},
   "source": [
    "Q1. What is an Exception in python? Write the difference between Exceptions and Syntax errors."
   ]
  },
  {
   "cell_type": "markdown",
   "metadata": {},
   "source": [
    "Exception is an error that occurs during the execution of a program, disrupting the normal flow of instructions. When an exception is raised, Python stops executing the program and looks for a way to handle the error, typically through a try-except block. Common examples include ZeroDivisionError, TypeError, and FileNotFoundError.\n",
    "\n",
    "A.\n",
    " Exceptions-Errors that occur during program execution.\n",
    " syntax Errors- Errors due to incorrect Python syntax, preventing code from being compiled.\n",
    "B.\n",
    "Exceptions - Detected at runtime when Python tries to execute the code.\n",
    "syntax Errors- Detected at compile-time before execution begins.\n",
    "\n",
    "C.\n",
    "Exceptions- Usually caused by operations like division by zero, invalid index access, or file handling issues.\n",
    "syntax Errors- Caused by mistakes in the code’s structure, such as missing colons, parentheses, or keywords."
   ]
  },
  {
   "cell_type": "markdown",
   "metadata": {},
   "source": [
    "Q2. What happens when an exception is not handled? Explain with an example."
   ]
  },
  {
   "cell_type": "markdown",
   "metadata": {},
   "source": [
    "When exception handling is not occur in program,it causes the program to stop execution immediately and displays trackback error message . This includes details about the type of exception, the line of code where it occurred, and a stack trace, which shows the sequence of function calls leading to the error."
   ]
  },
  {
   "cell_type": "code",
   "execution_count": 1,
   "metadata": {},
   "outputs": [
    {
     "ename": "ZeroDivisionError",
     "evalue": "division by zero",
     "output_type": "error",
     "traceback": [
      "\u001b[1;31m---------------------------------------------------------------------------\u001b[0m",
      "\u001b[1;31mZeroDivisionError\u001b[0m                         Traceback (most recent call last)",
      "Cell \u001b[1;32mIn[1], line 5\u001b[0m\n\u001b[0;32m      2\u001b[0m     result \u001b[38;5;241m=\u001b[39m a \u001b[38;5;241m/\u001b[39m b\n\u001b[0;32m      3\u001b[0m     \u001b[38;5;28;01mreturn\u001b[39;00m result\n\u001b[1;32m----> 5\u001b[0m \u001b[38;5;28mprint\u001b[39m(\u001b[43mdivide_numbers\u001b[49m\u001b[43m(\u001b[49m\u001b[38;5;241;43m10\u001b[39;49m\u001b[43m,\u001b[49m\u001b[43m \u001b[49m\u001b[38;5;241;43m0\u001b[39;49m\u001b[43m)\u001b[49m)\n",
      "Cell \u001b[1;32mIn[1], line 2\u001b[0m, in \u001b[0;36mdivide_numbers\u001b[1;34m(a, b)\u001b[0m\n\u001b[0;32m      1\u001b[0m \u001b[38;5;28;01mdef\u001b[39;00m \u001b[38;5;21mdivide_numbers\u001b[39m(a, b):\n\u001b[1;32m----> 2\u001b[0m     result \u001b[38;5;241m=\u001b[39m \u001b[43ma\u001b[49m\u001b[43m \u001b[49m\u001b[38;5;241;43m/\u001b[39;49m\u001b[43m \u001b[49m\u001b[43mb\u001b[49m\n\u001b[0;32m      3\u001b[0m     \u001b[38;5;28;01mreturn\u001b[39;00m result\n",
      "\u001b[1;31mZeroDivisionError\u001b[0m: division by zero"
     ]
    }
   ],
   "source": [
    "def divide_numbers(a, b):\n",
    "    result = a / b\n",
    "    return result\n",
    "\n",
    "print(divide_numbers(10, 0))"
   ]
  },
  {
   "cell_type": "markdown",
   "metadata": {},
   "source": [
    "Explanation:-\n",
    "Division by Zero: The function divide_numbers attempts to divide 10 by 0.\n",
    "\n",
    "ZeroDivisionError: Since dividing by zero is not allowed, Python raises a                   ZeroDivisionError.\n",
    "\n",
    "Unhandled Exception: Because this exception is not wrapped in a try-except                  block, Python cannot handle it and stops the program.\n",
    "\n",
    "Error Message: Python will display an error message similar to this:"
   ]
  },
  {
   "cell_type": "markdown",
   "metadata": {},
   "source": [
    "Q3. Which Python statements are used to catch and handle exceptions? Explain with an example."
   ]
  },
  {
   "cell_type": "markdown",
   "metadata": {},
   "source": [
    "In python try,except,else and finally statement are used to catch and handle exceptions ."
   ]
  },
  {
   "cell_type": "code",
   "execution_count": 2,
   "metadata": {},
   "outputs": [],
   "source": [
    "def division_numbers(a,b):\n",
    "    try:\n",
    "        result= a/b\n",
    "    except ZeroDivisionError:\n",
    "        print(\"Error! can't divided by zero \" )\n",
    "    else:\n",
    "        print(\"Division is sucessful :\",result)\n",
    "    finally:\n",
    "        print(\"Execution of divided numbers is successful\")"
   ]
  },
  {
   "cell_type": "code",
   "execution_count": 3,
   "metadata": {},
   "outputs": [
    {
     "name": "stdout",
     "output_type": "stream",
     "text": [
      "Error! can't divided by zero \n",
      "Execution of divided numbers is successful\n"
     ]
    }
   ],
   "source": [
    "division_numbers(4,0)"
   ]
  },
  {
   "cell_type": "markdown",
   "metadata": {},
   "source": [
    "divide_numbers(4, 0)\n",
    "\n",
    "try block: Raises a ZeroDivisionError due to 4/0.\n",
    "except block: Catches the exception, printing \"Error: Cannot divide by zero!\".\n",
    "else block: Skipped, as an exception was raised.\n",
    "finally block: Executes, printing \"Execution of divide_numbers complete.\""
   ]
  },
  {
   "cell_type": "markdown",
   "metadata": {},
   "source": [
    "Q4. Explain with an example:\n",
    "a. try and else\n",
    "b. finally\n",
    "c. raise"
   ]
  },
  {
   "cell_type": "code",
   "execution_count": 4,
   "metadata": {},
   "outputs": [],
   "source": [
    "def divide(a, b):\n",
    "    try:\n",
    "        result = a / b\n",
    "    except ZeroDivisionError:\n",
    "        print(\"Error: Cannot divide by zero!\")\n",
    "    else:\n",
    "        # Only runs if no exception was raised\n",
    "        print(\"Division successful! Result:\", result)"
   ]
  },
  {
   "cell_type": "code",
   "execution_count": 7,
   "metadata": {},
   "outputs": [
    {
     "name": "stdout",
     "output_type": "stream",
     "text": [
      "Error: Cannot divide by zero!\n"
     ]
    }
   ],
   "source": [
    "divide(5000,0)"
   ]
  },
  {
   "cell_type": "code",
   "execution_count": 8,
   "metadata": {},
   "outputs": [
    {
     "name": "stdout",
     "output_type": "stream",
     "text": [
      "Division successful! Result: 7.5\n"
     ]
    }
   ],
   "source": [
    "divide(45,6)"
   ]
  },
  {
   "cell_type": "code",
   "execution_count": 9,
   "metadata": {},
   "outputs": [
    {
     "name": "stdout",
     "output_type": "stream",
     "text": [
      "Registration successful!\n",
      "Error: Age must be 18 or older to register.\n"
     ]
    }
   ],
   "source": [
    "def check_age(age):\n",
    "    if age < 18:\n",
    "        raise ValueError(\"Age must be 18 or older to register.\")\n",
    "    else:\n",
    "        print(\"Registration successful!\")\n",
    "\n",
    "# Test cases\n",
    "try:\n",
    "    check_age(20)  # Valid age\n",
    "    check_age(15)  # Invalid age\n",
    "except ValueError as e:\n",
    "    print(\"Error:\", e)\n"
   ]
  },
  {
   "cell_type": "markdown",
   "metadata": {},
   "source": [
    "Q5. What are Custom Exceptions in python? Why do we need Custom Exceptions? Explain with an example."
   ]
  },
  {
   "cell_type": "markdown",
   "metadata": {},
   "source": [
    "Custom exceptions in Python are user-defined exceptions that extend the base Exception class. They allow you to create specific error types that are meaningful for your application's context, improving readability and making error handling more precise.\n",
    "\n",
    "A. Improved Code Clarity: Custom exceptions allow you to clearly indicate the nature of an error. Instead of using a generic exception type, you can create specific error types like InsufficientFundsError or InvalidAgeError, which makes your code easier to understand.\n",
    "\n",
    "B. Better Error Handling: Custom exceptions allow you to catch and handle specific types of errors, making error-handling logic more robust and intentional.\n",
    "\n",
    "C. Easier Debugging: Custom error messages provide more detailed feedback, which can make debugging easier."
   ]
  },
  {
   "cell_type": "code",
   "execution_count": 10,
   "metadata": {},
   "outputs": [
    {
     "name": "stdout",
     "output_type": "stream",
     "text": [
      "Error: Cannot withdraw $150. Available balance is $100.\n"
     ]
    }
   ],
   "source": [
    "# Custom Exception\n",
    "class InsufficientFundsError(Exception):\n",
    "    def __init__(self, message=\"Insufficient funds for this transaction.\"):\n",
    "        self.message = message\n",
    "        super().__init__(self.message)\n",
    "\n",
    "# BankAccount class\n",
    "class BankAccount:\n",
    "    def __init__(self, balance=0):\n",
    "        self.balance = balance\n",
    "    \n",
    "    def deposit(self, amount):\n",
    "        self.balance += amount\n",
    "        print(f\"Deposited: ${amount}, New Balance: ${self.balance}\")\n",
    "    \n",
    "    def withdraw(self, amount):\n",
    "        if amount > self.balance:\n",
    "            # Raise custom exception if funds are insufficient\n",
    "            raise InsufficientFundsError(f\"Cannot withdraw ${amount}. Available balance is ${self.balance}.\")\n",
    "        self.balance -= amount\n",
    "        print(f\"Withdrew: ${amount}, New Balance: ${self.balance}\")\n",
    "\n",
    "# Example Usage\n",
    "account = BankAccount(100)  # Initial balance of $100\n",
    "\n",
    "try:\n",
    "    account.withdraw(150)  # Trying to withdraw $150, which exceeds the balance\n",
    "except InsufficientFundsError as e:\n",
    "    print(\"Error:\", e)\n"
   ]
  },
  {
   "cell_type": "markdown",
   "metadata": {},
   "source": [
    "Q6. Create a custom exception class. Use this class to handle an exception."
   ]
  },
  {
   "cell_type": "code",
   "execution_count": 11,
   "metadata": {},
   "outputs": [],
   "source": [
    "# Define the custom exception\n",
    "class NegativeValueError(Exception):\n",
    "    def __init__(self, message=\"Negative value provided. Positive value required.\"):\n",
    "        self.message = message\n",
    "        super().__init__(self.message)\n"
   ]
  },
  {
   "cell_type": "code",
   "execution_count": 12,
   "metadata": {},
   "outputs": [
    {
     "name": "stdout",
     "output_type": "stream",
     "text": [
      "Square root of 16: 4.0\n",
      "Error: Cannot calculate square root of negative value: -9\n"
     ]
    }
   ],
   "source": [
    "import math\n",
    "\n",
    "def calculate_square_root(value):\n",
    "    if value < 0:\n",
    "        # Raise custom exception for negative input\n",
    "        raise NegativeValueError(f\"Cannot calculate square root of negative value: {value}\")\n",
    "    return math.sqrt(value)\n",
    "\n",
    "# Test cases\n",
    "try:\n",
    "    print(\"Square root of 16:\", calculate_square_root(16))  # Valid input\n",
    "    print(\"Square root of -9:\", calculate_square_root(-9))  # Invalid input\n",
    "except NegativeValueError as e:\n",
    "    print(\"Error:\", e)\n"
   ]
  }
 ],
 "metadata": {
  "kernelspec": {
   "display_name": "Python 3",
   "language": "python",
   "name": "python3"
  },
  "language_info": {
   "codemirror_mode": {
    "name": "ipython",
    "version": 3
   },
   "file_extension": ".py",
   "mimetype": "text/x-python",
   "name": "python",
   "nbconvert_exporter": "python",
   "pygments_lexer": "ipython3",
   "version": "3.12.6"
  }
 },
 "nbformat": 4,
 "nbformat_minor": 2
}
